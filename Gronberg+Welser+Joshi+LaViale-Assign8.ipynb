{
 "cells": [
  {
   "cell_type": "markdown",
   "metadata": {},
   "source": [
    "# Assignment 8\n",
    "\n",
    "In the module, the attention mechanism implementation is based on a single sequence input and iterated over every token individually. This implementation matches the block diagram in the module. \n",
    "\n",
    "Convert the implementation to batched using `BATCH_SIZE` to take advantage of PyTorch and a GPGPU device. Code updates and hints towards batch-by-batch processing have been provided throughout the implementation, including the dataset class NMTDataset. \n",
    "\n",
    "General steps towards batching in an RNN attention neural network:\n",
    "\n",
    "- Each sequence is created as a fixed-length tensor and padded to fill the tokens to the \n",
    "length after the EOS token. \n",
    "- Training has to input the sequences batch by batch.\n",
    "- It is permissible to go over the tokens one by one, but in batches.\n",
    "- RNN layers have batch_first to control the batch order, either batch-sequence-features or sequence-batch-features for True and False, respectively. The initial hidden \n",
    "layer order is always the same, sequence-batch-features\n",
    "\n",
    "Show that batched implementation is faster and generates the same error convergence."
   ]
  },
  {
   "cell_type": "code",
   "execution_count": null,
   "metadata": {},
   "outputs": [],
   "source": []
  }
 ],
 "metadata": {
  "kernelspec": {
   "display_name": "Python 3.11.5 ('base')",
   "language": "python",
   "name": "python3"
  },
  "language_info": {
   "name": "python",
   "version": "3.11.5"
  },
  "orig_nbformat": 4,
  "vscode": {
   "interpreter": {
    "hash": "12176a5713a61e315a544f914797e623fb5c9fee521b0a703da7d6cbf9676ed4"
   }
  }
 },
 "nbformat": 4,
 "nbformat_minor": 2
}
