{
 "cells": [
  {
   "cell_type": "markdown",
   "metadata": {},
   "source": [
    "# Assignment 8\n",
    "\n",
    "In the module, the attention mechanism implementation is based on a single sequence input and iterated over every token individually. This implementation matches the block diagram in the module. \n",
    "\n",
    "Convert the implementation to batched using `BATCH_SIZE` to take advantage of PyTorch and a GPGPU device. Code updates and hints towards batch-by-batch processing have been provided throughout the implementation, including the dataset class NMTDataset. \n",
    "\n",
    "General steps towards batching in an RNN attention neural network:\n",
    "\n",
    "- Each sequence is created as a fixed-length tensor and padded to fill the tokens to the \n",
    "length after the EOS token. \n",
    "- Training has to input the sequences batch by batch.\n",
    "- It is permissible to go over the tokens one by one, but in batches.\n",
    "- RNN layers have batch_first to control the batch order, either batch-sequence-features or sequence-batch-features for True and False, respectively. The initial hidden \n",
    "layer order is always the same, sequence-batch-features\n",
    "\n",
    "Show that batched implementation is faster and generates the same error convergence."
   ]
  },
  {
   "cell_type": "code",
   "execution_count": null,
   "metadata": {},
   "outputs": [],
   "source": [
    "# Import necessary modules\n",
    "import sys\n",
    "import torch\n",
    "import numpy as np\n",
    "import torch.nn as nn\n",
    "import matplotlib.pyplot as plt\n",
    "from torch.utils.data import DataLoader\n",
    "from nmt_dataset.nmt_dataset import \\\n",
    "    NMTDataset, GO_token, EOS_token, SEQ_MXLEN"
   ]
  },
  {
   "cell_type": "code",
   "execution_count": null,
   "metadata": {},
   "outputs": [],
   "source": [
    "# Set PyTorch device according to system offering\n",
    "if torch.cuda.is_available():\n",
    "    device = torch.device('cuda')\n",
    "elif torch.backends.mps.is_available():\n",
    "    device = torch.device('mps')\n",
    "else:\n",
    "    device = torch.device('cpu')\n",
    "device"
   ]
  },
  {
   "cell_type": "code",
   "execution_count": null,
   "metadata": {},
   "outputs": [],
   "source": [
    "# Establish \"global\" hyperparameter variables and load in the dataset\n",
    "HIDDEN_N = 128\n",
    "BATCH_SIZE = 1 # TODO: Needs to be increased\n",
    "DATASET_SIZE = BATCH_SIZE * (100000 // BATCH_SIZE)\n",
    "dataset = NMTDataset('nmt_dataset/eng-fra.txt', DATASET_SIZE)\n",
    "dataset_loader = DataLoader(dataset, batch_size=BATCH_SIZE, shuffle=False)\n",
    "print('Example of an item from the dataset:')\n",
    "dataset_loader.dataset[0]"
   ]
  },
  {
   "cell_type": "code",
   "execution_count": null,
   "metadata": {},
   "outputs": [],
   "source": [
    "# Create an encoder model\n",
    "class Encoder(nn.Module):\n",
    "    def __init__(self, n_input: int, n_hidden: int) -> None:\n",
    "        super().__init__()\n",
    "        self.n_input, self.n_hidden = n_input, n_hidden\n",
    "\n",
    "        self.embedding_layer = nn.Embedding(n_input, n_hidden)\n",
    "        self.rnn_cell = nn.GRU(n_hidden, n_hidden, batch_first=True)\n",
    "    \n",
    "    def forward(self, _x, _hn):\n",
    "        _x_embedded = self.embedding_layer(_x).view(BATCH_SIZE, 1, -1)\n",
    "        return self.rnn_cell(_x_embedded, _hn)\n",
    "    \n",
    "    def init_hidden(self):\n",
    "        return torch.zeros(1, 1, self.n_hidden, device=device)\n",
    "\n",
    "encoder = Encoder(dataset.input_lang.n_words, HIDDEN_N).to(device)\n",
    "encoder"
   ]
  },
  {
   "cell_type": "code",
   "execution_count": null,
   "metadata": {},
   "outputs": [],
   "source": [
    "# Create a decoder model\n",
    "class Decoder(nn.Module):\n",
    "    def __init__(\n",
    "        self, n_hidden: int, n_output: int,\n",
    "        dropout_rate: float = 0.1\n",
    "    ) -> None:\n",
    "        super().__init__()\n",
    "        self.n_hidden, self.n_output = n_hidden, n_output\n",
    "\n",
    "        self.embedding = nn.Embedding(self.n_output, self.n_hidden)\n",
    "        self.dropout = nn.Dropout(dropout_rate)\n",
    "        self.attention = nn.Linear(n_hidden, n_hidden)\n",
    "        self.w_c = nn.Linear(n_hidden * 2, n_hidden)\n",
    "        self.rnn_cell = nn.GRU(n_hidden, n_hidden, batch_first=True)\n",
    "        self.w_y = nn.Linear(n_hidden, n_output)\n",
    "    \n",
    "    def forward(self, _x, _hn, _encoder_outputs):\n",
    "        _x_embedded = self.embedding(_x).view(BATCH_SIZE, 1, -1)\n",
    "        _x_embedded = self.dropout(_x_embedded)\n",
    "        _, _hn = self.rnn_cell(_x_embedded, _hn)\n",
    "        _alignment_scores = torch.mm(\n",
    "            self.attention(_hn)[0], _encoder_outputs.t())\n",
    "        _attention_weights = nn.functional.softmax(\n",
    "            _alignment_scores, dim=1)\n",
    "        _c_t = torch.mm(_attention_weights, _encoder_outputs)\n",
    "        _hidden_s_t = torch.cat([_hn[0], _c_t], dim=1)\n",
    "        _hidden_s_t = torch.tanh(self.w_c(_hidden_s_t))\n",
    "        _output = nn.functional.log_softmax(self.w_y(_hidden_s_t), dim=1)\n",
    "        return _output, _hn, _attention_weights\n",
    "\n",
    "    def init_hidden(self):\n",
    "        return torch.zeros(1, 1, self.n_hidden, device=device)\n",
    "\n",
    "decoder = Decoder(HIDDEN_N, dataset.output_lang.n_words).to(device)\n",
    "decoder "
   ]
  },
  {
   "cell_type": "code",
   "execution_count": null,
   "metadata": {},
   "outputs": [],
   "source": [
    "# Create the loss function and optimizers for training the above models\n",
    "loss_function = nn.NLLLoss()\n",
    "encoder_optimizer = torch.optim.Adam(encoder.parameters())\n",
    "decoder_optimizer = torch.optim.Adam(decoder.parameters())"
   ]
  },
  {
   "cell_type": "code",
   "execution_count": null,
   "metadata": {},
   "outputs": [],
   "source": [
    "# Create and run a function to train the above models\n",
    "def train(\n",
    "    _encoder: Encoder, _decoder: Decoder, debug_step: int = None\n",
    ") -> tuple[Encoder, Decoder]:\n",
    "    total_loss = 0\n",
    "    for batch_index, (seq1, seq2) in enumerate(dataset_loader):\n",
    "        seq1 = seq1.to(device).squeeze(0)\n",
    "        seq2 = seq2.to(device).squeeze(0)\n",
    "\n",
    "        encoder_hn = _encoder.init_hidden()\n",
    "\n",
    "        encoder_optimizer.zero_grad()\n",
    "        decoder_optimizer.zero_grad()\n",
    "\n",
    "        len_seq1 = seq1.size(0)\n",
    "        len_seq2 = seq2.size(0)\n",
    "\n",
    "        encoder_outputs = torch.zeros(\n",
    "            SEQ_MXLEN, _encoder.n_hidden, device=device)\n",
    "        \n",
    "        loss = torch.Tensor([0]).squeeze().to(device)\n",
    "\n",
    "        with torch.set_grad_enabled(True):\n",
    "            for encoder_index in range(len_seq1):\n",
    "                encoder_output, encoder_hn = _encoder(\n",
    "                    seq1[encoder_index], encoder_hn)\n",
    "                encoder_outputs[encoder_index] = encoder_output[0, 0]\n",
    "            \n",
    "            decoder_input = torch.tensor([[GO_token]], device=device)\n",
    "            decoder_hn = encoder_hn\n",
    "\n",
    "            for decoder_index in range(len_seq2):\n",
    "                decoder_output, decoder_hn, _ = _decoder(\n",
    "                    decoder_input, decoder_hn, encoder_outputs\n",
    "                )\n",
    "                loss += loss_function(decoder_output, seq2[decoder_index])\n",
    "                decoder_input = seq2[decoder_index]\n",
    "\n",
    "            loss.backward()\n",
    "            encoder_optimizer.step()\n",
    "            decoder_optimizer.step()\n",
    "        \n",
    "        total_loss += loss.item() / len_seq2\n",
    "\n",
    "        if debug_step:\n",
    "            if batch_index % debug_step == 0:\n",
    "                sys.stdout.write(\n",
    "                    f'\\r{batch_index // debug_step:3d}/'\n",
    "                    f'{DATASET_SIZE // debug_step:3d} | '\n",
    "                    f'Loss: {total_loss / debug_step:3.2f}')\n",
    "                sys.stdout.flush()\n",
    "                total_loss = 0\n",
    "\n",
    "train(encoder, decoder, debug_step=1000)"
   ]
  }
 ],
 "metadata": {
  "kernelspec": {
   "display_name": "Python 3.11.5 ('base')",
   "language": "python",
   "name": "python3"
  },
  "language_info": {
   "codemirror_mode": {
    "name": "ipython",
    "version": 3
   },
   "file_extension": ".py",
   "mimetype": "text/x-python",
   "name": "python",
   "nbconvert_exporter": "python",
   "pygments_lexer": "ipython3",
   "version": "3.11.5"
  },
  "orig_nbformat": 4,
  "vscode": {
   "interpreter": {
    "hash": "12176a5713a61e315a544f914797e623fb5c9fee521b0a703da7d6cbf9676ed4"
   }
  }
 },
 "nbformat": 4,
 "nbformat_minor": 2
}
